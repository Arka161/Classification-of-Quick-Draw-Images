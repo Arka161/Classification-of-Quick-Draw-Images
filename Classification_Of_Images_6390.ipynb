{
 "cells": [
  {
   "cell_type": "markdown",
   "metadata": {},
   "source": [
    "In this notebook, we ensemble 6 different VGG-16 models. Each model has its own strengths has weaknesses. Eg: Some models do better with class 1, and some do better in class 4 (our dataset has 6 classes). Thus, we ensemble the models to get an overall better confusion matrix that works well for all the classes, to make sure no class is underrepresented or classified badly. "
   ]
  },
  {
   "cell_type": "markdown",
   "metadata": {},
   "source": [
    "Let us now import all required header files. We will need to run this code in a clean Python/Anaconda/Miniconda environment, to make sure there are no conflicts. This code works the best with a configured GPU. Our code was developed and testing with a gaming GPU, RTX 2060 with 6GB VRAM. You will need Numpy, Scipy, SKLearn, Pandas, Matplotlib, Tensroflow 2.0, Keras and basic Math/OS libraries to run this program. "
   ]
  },
  {
   "cell_type": "code",
   "execution_count": 1,
   "metadata": {},
   "outputs": [
    {
     "name": "stdout",
     "output_type": "stream",
     "text": [
      "GPU device-name is: /device:GPU:0\n",
      "Found GPU at: /device:GPU:0\n"
     ]
    }
   ],
   "source": [
    "import os\n",
    "os.environ['TF_FORCE_GPU_ALLOW_GROWTH'] = 'true'\n",
    "\n",
    "import tensorflow as tf\n",
    "device_name = tf.test.gpu_device_name()\n",
    "if device_name != '/device:GPU:0':\n",
    "  print('GPU device not found')\n",
    "else:\n",
    "    print(\"GPU device-name is:\", device_name)\n",
    "print('Found GPU at: {}'.format(device_name))\n",
    "from sklearn.model_selection import train_test_split\n",
    "from tensorflow.keras.utils import to_categorical\n",
    "from tensorflow.keras.applications.inception_v3 import InceptionV3\n",
    "from tensorflow.keras.applications.mobilenet import MobileNet\n",
    "from tensorflow.keras.applications.mobilenet_v2 import MobileNetV2\n",
    "from tensorflow.keras.applications.vgg19 import VGG19\n",
    "from tensorflow.keras.applications.vgg16 import VGG16\n",
    "from tensorflow.keras.applications.xception import Xception\n",
    "from tensorflow.keras.applications.inception_resnet_v2 import InceptionResNetV2\n",
    "import math \n",
    "from tensorflow.keras.models import Model\n",
    "from tensorflow.keras.layers import Dense\n",
    "from tensorflow.keras.layers import Flatten\n",
    "from tensorflow.keras.layers import Dropout\n",
    "from tensorflow.keras.layers import Input\n",
    "import numpy as np\n",
    "import matplotlib.pyplot as plt\n",
    "%matplotlib inline\n",
    "from __future__ import print_function\n",
    "from tensorflow.keras.models import Sequential\n",
    "from tensorflow.keras.layers import Dense, Conv2D, MaxPooling2D, Dropout, Flatten, AveragePooling2D, GlobalAveragePooling2D\n",
    "from tensorflow.keras import layers as L\n",
    "from tensorflow.keras.models import Sequential\n",
    "from tensorflow.keras.preprocessing.image import ImageDataGenerator\n",
    "\n",
    "#Data Visualizations\n",
    "import seaborn as sns\n",
    "from tensorflow.keras.preprocessing.image import load_img, img_to_array, array_to_img\n",
    "from tensorflow.keras.applications.vgg16 import preprocess_input\n",
    "from sklearn.metrics import accuracy_score\n",
    "from sklearn.metrics import classification_report, confusion_matrix"
   ]
  },
  {
   "cell_type": "markdown",
   "metadata": {},
   "source": [
    "Let us import the dataset. "
   ]
  },
  {
   "cell_type": "code",
   "execution_count": 2,
   "metadata": {},
   "outputs": [],
   "source": [
    "train_ds = np.load('train.npz')"
   ]
  },
  {
   "cell_type": "markdown",
   "metadata": {},
   "source": [
    "Resize as required. "
   ]
  },
  {
   "cell_type": "code",
   "execution_count": 3,
   "metadata": {},
   "outputs": [
    {
     "name": "stdout",
     "output_type": "stream",
     "text": [
      "(1500,)\n"
     ]
    }
   ],
   "source": [
    "x = train_ds['arr_0']\n",
    "y = train_ds['arr_1']\n",
    "\n",
    "x = x.reshape(1500,28,28,1)\n",
    "print(y.shape)"
   ]
  },
  {
   "cell_type": "code",
   "execution_count": 4,
   "metadata": {},
   "outputs": [],
   "source": [
    "train_images = x "
   ]
  },
  {
   "cell_type": "code",
   "execution_count": 5,
   "metadata": {},
   "outputs": [],
   "source": [
    "train_labels = y"
   ]
  },
  {
   "cell_type": "markdown",
   "metadata": {},
   "source": [
    "The code below resizes the image to 80 x 80. The default size of (28, 28, 1) does not work for a VGG-16 input, as it is trained for higher dimensional data. Hence, we need the code below. Let us preprocess the image and add 3 channels (since the transfer learning model we use, VGG-16, requires 3 channels to be present."
   ]
  },
  {
   "cell_type": "code",
   "execution_count": 6,
   "metadata": {},
   "outputs": [],
   "source": [
    "from tensorflow.keras.preprocessing.image import load_img, img_to_array, array_to_img\n",
    "\n",
    "def change_size(image):\n",
    "    img = array_to_img(image, scale=False) #returns PIL Image\n",
    "    img = img.resize((80, 80)) #resize image\n",
    "    img = img.convert(mode='RGB') #makes 3 channels\n",
    "    arr = img_to_array(img) #convert back to array\n",
    "    return arr.astype(np.float64)"
   ]
  },
  {
   "cell_type": "markdown",
   "metadata": {},
   "source": [
    "Apply the above to our training data. Then convert the training labels to OneHot Encoding, using the to_cateogorical API. "
   ]
  },
  {
   "cell_type": "code",
   "execution_count": 7,
   "metadata": {},
   "outputs": [],
   "source": [
    "train_arr_75 = [change_size(img) for img in x]\n",
    "del x\n",
    "train_arr_75 = np.array(train_arr_75)\n",
    "train_arr_75.shape\n",
    "y = to_categorical(y)"
   ]
  },
  {
   "cell_type": "markdown",
   "metadata": {},
   "source": [
    "Now, we need to set up ImageDataGenerator for generating different models for different classes. There are some ImageDataGenerator Configurations that perform better for a particular class, and some that perform worse. \n",
    "\n",
    "Also, we needed to apply VGG-16's Preprocess Input API to get the input to the right format. \n",
    "\n",
    "samplewise_std_normalization = True -> Better Confusion Matrix for Class 4 \n",
    "zca_whitening = True -> Better Confusion Matrix for Class 1. \n",
    "\n",
    "If both the above booleans are set to False, then the overall confusion matrix is more balanced across all classes, with Class 1 and Class 4 being the weakest. "
   ]
  },
  {
   "cell_type": "code",
   "execution_count": 8,
   "metadata": {},
   "outputs": [],
   "source": [
    "train_arr_75 = preprocess_input(train_arr_75)\n",
    "train_arr_75 = np.array(train_arr_75)\n",
    "train_arr_75 = train_arr_75.astype('float32')\n",
    "train_arr_75 /= 255\n",
    "\n",
    "train_images, test_images, train_labels, test_labels = train_test_split(train_arr_75,y, test_size=0.1, random_state=1, stratify=y)\n",
    "\n",
    "#Model1\n",
    "image_gen1 = ImageDataGenerator(\n",
    "    #samplewise_center=True, don't\n",
    "    #featurewise_center=True, don't\n",
    "    #featurewise_std_normalization=True, don't\n",
    "    #samplewise_std_normalization = True,# accuracy -0.83, better confusion on class4\n",
    "    #zca_whitening = True,\n",
    "        zoom_range=0.2, # randomly zoom into images\n",
    "        rotation_range=20,  # randomly rotate images in the range (degrees, 0 to 180)\n",
    "        #20 - 0.836\n",
    "        width_shift_range=0.3,  # randomly shift images horizontally (fraction of total width)\n",
    "        #0.1-  0.823, 0.4 - 0.73, 0.3-0.86\n",
    "        height_shift_range=0.2,  # randomly shift images vertically (fraction of total height)\n",
    "        #0.3-0.77\n",
    "        horizontal_flip=True,  # randomly flip images\n",
    "        vertical_flip=False)  # randomly flip images\n",
    "\n",
    "train_generator = image_gen1.flow(train_images, \n",
    "                                 train_labels,\n",
    "                                batch_size=32,\n",
    "                                shuffle=True,\n",
    "                                seed=42)\n",
    "valid_generator = image_gen1.flow(test_images,\n",
    "                                 test_labels,\n",
    "                                batch_size=16,\n",
    "                                shuffle=True)"
   ]
  },
  {
   "cell_type": "markdown",
   "metadata": {},
   "source": [
    "Let us define Kaiming Initializer for weights. Reference: https://towardsdatascience.com/weight-initialization-in-neural-networks-a-journey-from-the-basics-to-kaiming-954fb9b47c79"
   ]
  },
  {
   "cell_type": "code",
   "execution_count": 9,
   "metadata": {},
   "outputs": [],
   "source": [
    "import math \n",
    "def kaiming(shape, dtype=None):\n",
    "    return tf.random.normal(shape, dtype=dtype)*math.sqrt(2./shape[0])"
   ]
  },
  {
   "cell_type": "markdown",
   "metadata": {},
   "source": [
    "Let us define our VGG model."
   ]
  },
  {
   "cell_type": "code",
   "execution_count": 10,
   "metadata": {},
   "outputs": [],
   "source": [
    "import tensorflow.keras as keras\n",
    "model = Sequential()\n",
    "model = VGG16(weights = \"imagenet\",include_top=False, input_shape=(80, 80, 3))\n",
    "flat1 = Flatten()(model.layers[-1].output)\n",
    "x2 = Dropout(.2)(flat1)\n",
    "class1 = Dense(1024, activation='relu', kernel_initializer= kaiming)(x2)\n",
    "#class1 = Dense(2**(j + 4), activation='relu')(x2)\n",
    "x2 = Dropout(.3)(class1)\n",
    "output = Dense(6, activation='softmax')(class1)\n",
    "model = Model(inputs=model.inputs, outputs=output)\n",
    "model.compile(optimizer=keras.optimizers.Adamax(lr=0.0001), loss='categorical_crossentropy', metrics=['accuracy'])"
   ]
  },
  {
   "cell_type": "code",
   "execution_count": 11,
   "metadata": {},
   "outputs": [
    {
     "name": "stdout",
     "output_type": "stream",
     "text": [
      "Model: \"model\"\n",
      "_________________________________________________________________\n",
      "Layer (type)                 Output Shape              Param #   \n",
      "=================================================================\n",
      "input_1 (InputLayer)         [(None, 80, 80, 3)]       0         \n",
      "_________________________________________________________________\n",
      "block1_conv1 (Conv2D)        (None, 80, 80, 64)        1792      \n",
      "_________________________________________________________________\n",
      "block1_conv2 (Conv2D)        (None, 80, 80, 64)        36928     \n",
      "_________________________________________________________________\n",
      "block1_pool (MaxPooling2D)   (None, 40, 40, 64)        0         \n",
      "_________________________________________________________________\n",
      "block2_conv1 (Conv2D)        (None, 40, 40, 128)       73856     \n",
      "_________________________________________________________________\n",
      "block2_conv2 (Conv2D)        (None, 40, 40, 128)       147584    \n",
      "_________________________________________________________________\n",
      "block2_pool (MaxPooling2D)   (None, 20, 20, 128)       0         \n",
      "_________________________________________________________________\n",
      "block3_conv1 (Conv2D)        (None, 20, 20, 256)       295168    \n",
      "_________________________________________________________________\n",
      "block3_conv2 (Conv2D)        (None, 20, 20, 256)       590080    \n",
      "_________________________________________________________________\n",
      "block3_conv3 (Conv2D)        (None, 20, 20, 256)       590080    \n",
      "_________________________________________________________________\n",
      "block3_pool (MaxPooling2D)   (None, 10, 10, 256)       0         \n",
      "_________________________________________________________________\n",
      "block4_conv1 (Conv2D)        (None, 10, 10, 512)       1180160   \n",
      "_________________________________________________________________\n",
      "block4_conv2 (Conv2D)        (None, 10, 10, 512)       2359808   \n",
      "_________________________________________________________________\n",
      "block4_conv3 (Conv2D)        (None, 10, 10, 512)       2359808   \n",
      "_________________________________________________________________\n",
      "block4_pool (MaxPooling2D)   (None, 5, 5, 512)         0         \n",
      "_________________________________________________________________\n",
      "block5_conv1 (Conv2D)        (None, 5, 5, 512)         2359808   \n",
      "_________________________________________________________________\n",
      "block5_conv2 (Conv2D)        (None, 5, 5, 512)         2359808   \n",
      "_________________________________________________________________\n",
      "block5_conv3 (Conv2D)        (None, 5, 5, 512)         2359808   \n",
      "_________________________________________________________________\n",
      "block5_pool (MaxPooling2D)   (None, 2, 2, 512)         0         \n",
      "_________________________________________________________________\n",
      "flatten (Flatten)            (None, 2048)              0         \n",
      "_________________________________________________________________\n",
      "dropout (Dropout)            (None, 2048)              0         \n",
      "_________________________________________________________________\n",
      "dense (Dense)                (None, 1024)              2098176   \n",
      "_________________________________________________________________\n",
      "dense_1 (Dense)              (None, 6)                 6150      \n",
      "=================================================================\n",
      "Total params: 16,819,014\n",
      "Trainable params: 16,819,014\n",
      "Non-trainable params: 0\n",
      "_________________________________________________________________\n"
     ]
    }
   ],
   "source": [
    "model.summary()"
   ]
  },
  {
   "cell_type": "markdown",
   "metadata": {},
   "source": [
    "Let us Freeze the layers till Block 3 with the default ImageNet weights. VGG-16 is trained on ImageNet by default. "
   ]
  },
  {
   "cell_type": "code",
   "execution_count": 12,
   "metadata": {},
   "outputs": [],
   "source": [
    "for layer in model.layers:\n",
    "    if layer.name == \"block3_pool\":\n",
    "        break\n",
    "    layer.trainable = False"
   ]
  },
  {
   "cell_type": "code",
   "execution_count": 13,
   "metadata": {},
   "outputs": [
    {
     "name": "stdout",
     "output_type": "stream",
     "text": [
      "WARNING:tensorflow:sample_weight modes were coerced from\n",
      "  ...\n",
      "    to  \n",
      "  ['...']\n",
      "WARNING:tensorflow:sample_weight modes were coerced from\n",
      "  ...\n",
      "    to  \n",
      "  ['...']\n",
      "Train for 42 steps, validate for 9 steps\n",
      "Epoch 1/4\n",
      "42/42 [==============================] - 9s 226ms/step - loss: 1.3991 - accuracy: 0.4461 - val_loss: 0.9441 - val_accuracy: 0.6111\n",
      "Epoch 2/4\n",
      "42/42 [==============================] - 3s 78ms/step - loss: 0.9417 - accuracy: 0.6608 - val_loss: 0.7634 - val_accuracy: 0.7917\n",
      "Epoch 3/4\n",
      "42/42 [==============================] - 3s 78ms/step - loss: 0.7503 - accuracy: 0.7307 - val_loss: 0.6241 - val_accuracy: 0.7708\n",
      "Epoch 4/4\n",
      "42/42 [==============================] - 3s 78ms/step - loss: 0.6492 - accuracy: 0.7663 - val_loss: 0.6261 - val_accuracy: 0.7986\n"
     ]
    }
   ],
   "source": [
    "from tensorflow.keras.callbacks import EarlyStopping\n",
    "early_stopping = EarlyStopping()\n",
    "history = model.fit(train_generator, validation_data=valid_generator, epochs=4, \n",
    "          steps_per_epoch=train_generator.n//train_generator.batch_size,\n",
    "         validation_steps=valid_generator.n//valid_generator.batch_size)"
   ]
  },
  {
   "cell_type": "markdown",
   "metadata": {},
   "source": [
    "(The above run is just a sample model execution. In reality, we needed to run the model many times to get a result with good validation loss and validation accuracies)"
   ]
  },
  {
   "cell_type": "markdown",
   "metadata": {},
   "source": [
    "Let us print the Confusion Matrix of the model above. To get an idea of how it looks like. We do something similar many times, and accordingly get our 5 different weights. Which are then ensembled. Since CNN has randomness/entropy, it often takes many different tests to get a good enough model. "
   ]
  },
  {
   "cell_type": "code",
   "execution_count": 14,
   "metadata": {},
   "outputs": [
    {
     "name": "stdout",
     "output_type": "stream",
     "text": [
      "Accuracy Score is displayed below:\n",
      "0.8466666666666667\n"
     ]
    },
    {
     "data": {
      "text/plain": [
       "array([[18,  5,  0,  2,  0,  0],\n",
       "       [ 1, 22,  0,  0,  0,  2],\n",
       "       [ 0,  0, 25,  0,  0,  0],\n",
       "       [ 0,  0,  0, 24,  0,  1],\n",
       "       [ 0,  4,  0,  2, 14,  5],\n",
       "       [ 0,  1,  0,  0,  0, 24]], dtype=int64)"
      ]
     },
     "execution_count": 14,
     "metadata": {},
     "output_type": "execute_result"
    },
    {
     "data": {
      "image/png": "[encoded data removed]",
      "text/plain": [
       "<Figure size 720x576 with 2 Axes>"
      ]
     },
     "metadata": {
      "needs_background": "light"
     },
     "output_type": "display_data"
    }
   ],
   "source": [
    "from sklearn.metrics import accuracy_score\n",
    "from sklearn.metrics import classification_report, confusion_matrix\n",
    "import pandas as pd\n",
    "\n",
    "Y_val_pred = model.predict(test_images)#, num_of_test_samples // batch_size+1\n",
    "Y_val_pred = np.argmax(Y_val_pred, axis=1)\n",
    "\n",
    "test_labels = np.argmax(test_labels, axis = 1)\n",
    "\n",
    "cf_matrix = confusion_matrix(test_labels, Y_val_pred)\n",
    "print(\"Accuracy Score is displayed below:\")\n",
    "\n",
    "print(accuracy_score(test_labels, Y_val_pred))\n",
    "categories = list(np.unique(test_labels))\n",
    "df_cm = pd.DataFrame(cf_matrix,index = categories,\n",
    "  columns = categories)\n",
    "plt.figure(figsize=(10,8))\n",
    "res = sns.heatmap(df_cm, annot=True, vmin=0.0, vmax=100.0)\n",
    "bottom, top = res.get_ylim()\n",
    "res.set_ylim(bottom + 0.5, top - 0.5)\n",
    "cf_matrix"
   ]
  },
  {
   "cell_type": "code",
   "execution_count": 15,
   "metadata": {},
   "outputs": [],
   "source": [
    "#Let us go over how we save a weight.\n",
    "\n",
    "\n",
    "#Uncomment the line below to save that weight\n",
    "#model.save_weights(\"80x80badClass4.hdf5\")"
   ]
  },
  {
   "cell_type": "markdown",
   "metadata": {},
   "source": [
    "Basically, we had repeated the above steps many times till we got a good set of weights. We then saved them, and proceeded forward to do a probabilistic voting. "
   ]
  },
  {
   "cell_type": "markdown",
   "metadata": {},
   "source": [
    "We will see how ensembling or soft voting is carried out. "
   ]
  },
  {
   "cell_type": "markdown",
   "metadata": {},
   "source": [
    "First, create 5 dummy models."
   ]
  },
  {
   "cell_type": "code",
   "execution_count": 16,
   "metadata": {},
   "outputs": [],
   "source": [
    "model5 = Sequential()\n",
    "input_tensor = Input(shape=(80, 80, 3))\n",
    "model5 = VGG16(weights = \"imagenet\",include_top=False, input_shape=(80, 80, 3))\n",
    "#model = ResNet18(input_shape=(224,224,3), weights='imagenet', classes=1000)\n",
    "# add new classifier layers\n",
    "flat1 = Flatten()(model5.layers[-1].output)\n",
    "x2 = Dropout(.2)(flat1)\n",
    "class1 = Dense(1024, activation='relu', kernel_initializer= kaiming)(x2)\n",
    "x2 = Dropout(.3)(class1)\n",
    "output = Dense(6, activation='softmax')(class1)\n",
    "model5 = Model(inputs=model5.inputs, outputs=output)\n",
    "model5.compile(optimizer=tf.keras.optimizers.Adam(lr=0.0001), loss='categorical_crossentropy', metrics=['accuracy'])\n",
    "#Do not use default learning rate since it is too high!"
   ]
  },
  {
   "cell_type": "code",
   "execution_count": 17,
   "metadata": {},
   "outputs": [],
   "source": [
    "model = Sequential()\n",
    "input_tensor = Input(shape=(75, 75, 3))\n",
    "model = VGG16(weights = \"imagenet\",include_top=False, input_shape=(80, 80, 3))\n",
    "#model = ResNet18(input_shape=(224,224,3), weights='imagenet', classes=1000)\n",
    "# add new classifier layers\n",
    "flat1 = Flatten()(model.layers[-1].output)\n",
    "x2 = Dropout(.2)(flat1)\n",
    "class1 = Dense(1024, activation='relu', kernel_initializer= kaiming)(x2)\n",
    "x2 = Dropout(.3)(class1)\n",
    "output = Dense(6, activation='softmax')(class1)\n",
    "model = Model(inputs=model.inputs, outputs=output)\n",
    "model.compile(optimizer=tf.keras.optimizers.Adam(lr=0.0001), loss='categorical_crossentropy', metrics=['accuracy'])\n",
    "#Do not use default learning rate since it is too high!"
   ]
  },
  {
   "cell_type": "code",
   "execution_count": 18,
   "metadata": {},
   "outputs": [],
   "source": [
    "model2 = Sequential()\n",
    "input_tensor = Input(shape=(75, 75, 3))\n",
    "model2 = VGG16(weights = \"imagenet\",include_top=False, input_shape=(80, 80, 3))\n",
    "#model = ResNet18(input_shape=(224,224,3), weights='imagenet', classes=1000)\n",
    "# add new classifier layers\n",
    "flat1 = Flatten()(model2.layers[-1].output)\n",
    "x2 = Dropout(.2)(flat1)\n",
    "class1 = Dense(1024, activation='relu', kernel_initializer= kaiming)(x2)\n",
    "x2 = Dropout(.3)(class1)\n",
    "output = Dense(6, activation='softmax')(class1)\n",
    "model2 = Model(inputs=model2.inputs, outputs=output)\n",
    "model2.compile(optimizer=tf.keras.optimizers.Adam(lr=0.0001), loss='categorical_crossentropy', metrics=['accuracy'])\n",
    "#Do not use default learning rate since it is too high!"
   ]
  },
  {
   "cell_type": "code",
   "execution_count": 19,
   "metadata": {},
   "outputs": [],
   "source": [
    "model6 = Sequential()\n",
    "input_tensor = Input(shape=(80, 80, 3))\n",
    "model6 = VGG16(weights = \"imagenet\",include_top=False, input_shape=(80, 80, 3))\n",
    "#model = ResNet18(input_shape=(224,224,3), weights='imagenet', classes=1000)\n",
    "# add new classifier layers\n",
    "flat1 = Flatten()(model6.layers[-1].output)\n",
    "x2 = Dropout(.2)(flat1)\n",
    "class1 = Dense(1024, activation='relu', kernel_initializer= kaiming)(x2)\n",
    "x2 = Dropout(.3)(class1)\n",
    "output = Dense(6, activation='softmax')(class1)\n",
    "model6 = Model(inputs=model6.inputs, outputs=output)\n",
    "model6.compile(optimizer=tf.keras.optimizers.Adam(lr=0.0001), loss='categorical_crossentropy', metrics=['accuracy'])\n",
    "#Do not use default learning rate since it is too high!"
   ]
  },
  {
   "cell_type": "code",
   "execution_count": 20,
   "metadata": {},
   "outputs": [],
   "source": [
    "model7 = Sequential()\n",
    "input_tensor = Input(shape=(80, 80, 3))\n",
    "model7 = VGG16(weights = \"imagenet\",include_top=False, input_shape=(80, 80, 3))\n",
    "#model = ResNet18(input_shape=(224,224,3), weights='imagenet', classes=1000)\n",
    "# add new classifier layers\n",
    "flat1 = Flatten()(model7.layers[-1].output)\n",
    "x2 = Dropout(.2)(flat1)\n",
    "class1 = Dense(1024, activation='relu', kernel_initializer= kaiming)(x2)\n",
    "x2 = Dropout(.3)(class1)\n",
    "output = Dense(6, activation='softmax')(class1)\n",
    "model7 = Model(inputs=model7.inputs, outputs=output)\n",
    "model7.compile(optimizer=tf.keras.optimizers.Adam(lr=0.0001), loss='categorical_crossentropy', metrics=['accuracy'])"
   ]
  },
  {
   "cell_type": "code",
   "execution_count": 21,
   "metadata": {},
   "outputs": [],
   "source": [
    "model5.load_weights('badC2.hdf5')"
   ]
  },
  {
   "cell_type": "code",
   "execution_count": 22,
   "metadata": {},
   "outputs": [],
   "source": [
    "model6.load_weights('badC490_1.hdf5')"
   ]
  },
  {
   "cell_type": "code",
   "execution_count": 23,
   "metadata": {},
   "outputs": [],
   "source": [
    "model7.load_weights('badC490.hdf5')"
   ]
  },
  {
   "cell_type": "code",
   "execution_count": 24,
   "metadata": {},
   "outputs": [],
   "source": [
    "model.load_weights('badC285ButGoodC4.hdf5')"
   ]
  },
  {
   "cell_type": "code",
   "execution_count": 25,
   "metadata": {},
   "outputs": [],
   "source": [
    "model2.load_weights('badC4ButGoodBalance90.hdf5')"
   ]
  },
  {
   "cell_type": "markdown",
   "metadata": {},
   "source": [
    "Let us load the test dataset below. This is to be used for final predictions and generating the CSV file. "
   ]
  },
  {
   "cell_type": "code",
   "execution_count": 26,
   "metadata": {},
   "outputs": [],
   "source": [
    "test_ds = np.load('test.npz')"
   ]
  },
  {
   "cell_type": "markdown",
   "metadata": {},
   "source": [
    "Let us replace the last layer of model5 (the SoftMax Activation Function Layer) with an SVM. This SVM predicts on Features extracted by the VGG. This worked the best for our case. "
   ]
  },
  {
   "cell_type": "markdown",
   "metadata": {},
   "source": [
    "We are printing the shapes of various stages of the CNN + SVM operation below. "
   ]
  },
  {
   "cell_type": "code",
   "execution_count": 27,
   "metadata": {},
   "outputs": [
    {
     "name": "stdout",
     "output_type": "stream",
     "text": [
      "Model: \"model_1\"\n",
      "_________________________________________________________________\n",
      "Layer (type)                 Output Shape              Param #   \n",
      "=================================================================\n",
      "input_3 (InputLayer)         [(None, 80, 80, 3)]       0         \n",
      "_________________________________________________________________\n",
      "block1_conv1 (Conv2D)        (None, 80, 80, 64)        1792      \n",
      "_________________________________________________________________\n",
      "block1_conv2 (Conv2D)        (None, 80, 80, 64)        36928     \n",
      "_________________________________________________________________\n",
      "block1_pool (MaxPooling2D)   (None, 40, 40, 64)        0         \n",
      "_________________________________________________________________\n",
      "block2_conv1 (Conv2D)        (None, 40, 40, 128)       73856     \n",
      "_________________________________________________________________\n",
      "block2_conv2 (Conv2D)        (None, 40, 40, 128)       147584    \n",
      "_________________________________________________________________\n",
      "block2_pool (MaxPooling2D)   (None, 20, 20, 128)       0         \n",
      "_________________________________________________________________\n",
      "block3_conv1 (Conv2D)        (None, 20, 20, 256)       295168    \n",
      "_________________________________________________________________\n",
      "block3_conv2 (Conv2D)        (None, 20, 20, 256)       590080    \n",
      "_________________________________________________________________\n",
      "block3_conv3 (Conv2D)        (None, 20, 20, 256)       590080    \n",
      "_________________________________________________________________\n",
      "block3_pool (MaxPooling2D)   (None, 10, 10, 256)       0         \n",
      "_________________________________________________________________\n",
      "block4_conv1 (Conv2D)        (None, 10, 10, 512)       1180160   \n",
      "_________________________________________________________________\n",
      "block4_conv2 (Conv2D)        (None, 10, 10, 512)       2359808   \n",
      "_________________________________________________________________\n",
      "block4_conv3 (Conv2D)        (None, 10, 10, 512)       2359808   \n",
      "_________________________________________________________________\n",
      "block4_pool (MaxPooling2D)   (None, 5, 5, 512)         0         \n",
      "_________________________________________________________________\n",
      "block5_conv1 (Conv2D)        (None, 5, 5, 512)         2359808   \n",
      "_________________________________________________________________\n",
      "block5_conv2 (Conv2D)        (None, 5, 5, 512)         2359808   \n",
      "_________________________________________________________________\n",
      "block5_conv3 (Conv2D)        (None, 5, 5, 512)         2359808   \n",
      "_________________________________________________________________\n",
      "block5_pool (MaxPooling2D)   (None, 2, 2, 512)         0         \n",
      "_________________________________________________________________\n",
      "flatten_1 (Flatten)          (None, 2048)              0         \n",
      "_________________________________________________________________\n",
      "dropout_2 (Dropout)          (None, 2048)              0         \n",
      "_________________________________________________________________\n",
      "dense_2 (Dense)              (None, 1024)              2098176   \n",
      "_________________________________________________________________\n",
      "dense_3 (Dense)              (None, 6)                 6150      \n",
      "=================================================================\n",
      "Total params: 16,819,014\n",
      "Trainable params: 16,819,014\n",
      "Non-trainable params: 0\n",
      "_________________________________________________________________\n"
     ]
    }
   ],
   "source": [
    "model5.summary()"
   ]
  },
  {
   "cell_type": "code",
   "execution_count": 28,
   "metadata": {},
   "outputs": [],
   "source": [
    "#Since we had done an argmax earlier, we now need to restore the original values. This is NOT random, as we have hardcoded a random state/random seed,\n",
    "\n",
    "train_images, test_images, train_labels, test_labels = train_test_split(train_arr_75,y, test_size=0.1, random_state=1, stratify=y)"
   ]
  },
  {
   "cell_type": "code",
   "execution_count": 30,
   "metadata": {},
   "outputs": [
    {
     "name": "stdout",
     "output_type": "stream",
     "text": [
      "Model: \"model_1\"\n",
      "_________________________________________________________________\n",
      "Layer (type)                 Output Shape              Param #   \n",
      "=================================================================\n",
      "input_3 (InputLayer)         [(None, 80, 80, 3)]       0         \n",
      "_________________________________________________________________\n",
      "block1_conv1 (Conv2D)        (None, 80, 80, 64)        1792      \n",
      "_________________________________________________________________\n",
      "block1_conv2 (Conv2D)        (None, 80, 80, 64)        36928     \n",
      "_________________________________________________________________\n",
      "block1_pool (MaxPooling2D)   (None, 40, 40, 64)        0         \n",
      "_________________________________________________________________\n",
      "block2_conv1 (Conv2D)        (None, 40, 40, 128)       73856     \n",
      "_________________________________________________________________\n",
      "block2_conv2 (Conv2D)        (None, 40, 40, 128)       147584    \n",
      "_________________________________________________________________\n",
      "block2_pool (MaxPooling2D)   (None, 20, 20, 128)       0         \n",
      "_________________________________________________________________\n",
      "block3_conv1 (Conv2D)        (None, 20, 20, 256)       295168    \n",
      "_________________________________________________________________\n",
      "block3_conv2 (Conv2D)        (None, 20, 20, 256)       590080    \n",
      "_________________________________________________________________\n",
      "block3_conv3 (Conv2D)        (None, 20, 20, 256)       590080    \n",
      "_________________________________________________________________\n",
      "block3_pool (MaxPooling2D)   (None, 10, 10, 256)       0         \n",
      "_________________________________________________________________\n",
      "block4_conv1 (Conv2D)        (None, 10, 10, 512)       1180160   \n",
      "_________________________________________________________________\n",
      "block4_conv2 (Conv2D)        (None, 10, 10, 512)       2359808   \n",
      "_________________________________________________________________\n",
      "block4_conv3 (Conv2D)        (None, 10, 10, 512)       2359808   \n",
      "_________________________________________________________________\n",
      "block4_pool (MaxPooling2D)   (None, 5, 5, 512)         0         \n",
      "_________________________________________________________________\n",
      "block5_conv1 (Conv2D)        (None, 5, 5, 512)         2359808   \n",
      "_________________________________________________________________\n",
      "block5_conv2 (Conv2D)        (None, 5, 5, 512)         2359808   \n",
      "_________________________________________________________________\n",
      "block5_conv3 (Conv2D)        (None, 5, 5, 512)         2359808   \n",
      "_________________________________________________________________\n",
      "block5_pool (MaxPooling2D)   (None, 2, 2, 512)         0         \n",
      "_________________________________________________________________\n",
      "flatten_1 (Flatten)          (None, 2048)              0         \n",
      "_________________________________________________________________\n",
      "dropout_2 (Dropout)          (None, 2048)              0         \n",
      "_________________________________________________________________\n",
      "dense_2 (Dense)              (None, 1024)              2098176   \n",
      "_________________________________________________________________\n",
      "dense_3 (Dense)              (None, 6)                 6150      \n",
      "=================================================================\n",
      "Total params: 16,819,014\n",
      "Trainable params: 16,819,014\n",
      "Non-trainable params: 0\n",
      "_________________________________________________________________\n"
     ]
    }
   ],
   "source": [
    "model5.summary()"
   ]
  },
  {
   "cell_type": "code",
   "execution_count": 31,
   "metadata": {},
   "outputs": [
    {
     "name": "stdout",
     "output_type": "stream",
     "text": [
      "(1350, 1024)\n",
      "(150, 1024)\n",
      "(1350, 1024)\n"
     ]
    }
   ],
   "source": [
    "model_featlast = Model(inputs=model5.input,outputs=model5.get_layer('dense_2').output)\n",
    "\n",
    "feat_trainlast = model_featlast.predict(train_images)\n",
    "print(feat_trainlast.shape)\n",
    "\n",
    "feat_vallast = model_featlast.predict(test_images)\n",
    "print(feat_vallast.shape)\n",
    "\n",
    "feat_trainlast = model_featlast.predict(train_images)\n",
    "print(feat_trainlast.shape)"
   ]
  },
  {
   "cell_type": "code",
   "execution_count": 32,
   "metadata": {},
   "outputs": [
    {
     "data": {
      "text/plain": [
       "0.9066666666666666"
      ]
     },
     "execution_count": 32,
     "metadata": {},
     "output_type": "execute_result"
    }
   ],
   "source": [
    "from sklearn.svm import SVC\n",
    "\n",
    "svm3l = SVC(kernel='rbf', probability = True)\n",
    "\n",
    "svm3l.fit(feat_trainlast,np.argmax(train_labels,axis=1))\n",
    "svm3l.score(feat_trainlast,np.argmax(train_labels,axis=1))\n",
    "val_scorel = svm3l.score(feat_vallast,np.argmax(test_labels,axis=1))\n",
    "val_scorel"
   ]
  },
  {
   "cell_type": "code",
   "execution_count": 33,
   "metadata": {},
   "outputs": [
    {
     "name": "stdout",
     "output_type": "stream",
     "text": [
      "Accuracy Score is displayed below:\n",
      "0.94\n"
     ]
    },
    {
     "data": {
      "text/plain": [
       "array([[23,  1,  0,  1,  0,  0],\n",
       "       [ 0, 24,  0,  0,  1,  0],\n",
       "       [ 0,  0, 25,  0,  0,  0],\n",
       "       [ 0,  0,  0, 24,  0,  1],\n",
       "       [ 0,  0,  0,  2, 22,  1],\n",
       "       [ 0,  0,  0,  0,  2, 23]], dtype=int64)"
      ]
     },
     "execution_count": 33,
     "metadata": {},
     "output_type": "execute_result"
    },
    {
     "data": {
      "image/png": "[encoded data removed]",
      "text/plain": [
       "<Figure size 720x576 with 2 Axes>"
      ]
     },
     "metadata": {
      "needs_background": "light"
     },
     "output_type": "display_data"
    }
   ],
   "source": [
    "results = np.zeros( (test_images.shape[0],6) ) \n",
    "\n",
    "#SVM for L5\n",
    "feat_val_2 = model_featlast.predict(test_images)\n",
    "Pred_labels_1 = svm3l.predict_proba(feat_val_2)\n",
    "results = results + Pred_labels_1\n",
    "results = results + model.predict(test_images)\n",
    "results = results + model2.predict(test_images)\n",
    "results = results + model6.predict(test_images)\n",
    "results = results + model7.predict(test_images)\n",
    "#results = results + model7.predict(test_images)\n",
    "results = np.argmax(results,axis = 1)\n",
    "Y_val_pred = results\n",
    "\n",
    "\n",
    "test_labels = np.argmax(test_labels, axis = 1)\n",
    "cf_matrix = confusion_matrix(test_labels, Y_val_pred)\n",
    "print(\"Accuracy Score is displayed below:\")\n",
    "\n",
    "print(accuracy_score(test_labels, Y_val_pred))\n",
    "categories = list(np.unique(test_labels))\n",
    "df_cm = pd.DataFrame(cf_matrix,index = categories,\n",
    "  columns = categories)\n",
    "plt.figure(figsize=(10,8))\n",
    "res = sns.heatmap(df_cm, annot=True, vmin=0.0, vmax=100.0)\n",
    "bottom, top = res.get_ylim()\n",
    "res.set_ylim(bottom + 0.5, top - 0.5)\n",
    "cf_matrix"
   ]
  },
  {
   "cell_type": "markdown",
   "metadata": {},
   "source": [
    "Using the above weights, we have generated our confusion matrix of 94% accuracy, and a balanced prediction across all the classes. "
   ]
  },
  {
   "cell_type": "code",
   "execution_count": 34,
   "metadata": {},
   "outputs": [],
   "source": [
    "y2 = test_ds['arr_0']\n",
    "y2 = y2.reshape(60000,28,28,1)"
   ]
  },
  {
   "cell_type": "code",
   "execution_count": 35,
   "metadata": {},
   "outputs": [],
   "source": [
    "y2 = np.array([change_size(img) for img in y2])"
   ]
  },
  {
   "cell_type": "code",
   "execution_count": 36,
   "metadata": {},
   "outputs": [
    {
     "data": {
      "text/plain": [
       "(60000, 80, 80, 3)"
      ]
     },
     "execution_count": 36,
     "metadata": {},
     "output_type": "execute_result"
    }
   ],
   "source": [
    "y2.shape"
   ]
  },
  {
   "cell_type": "code",
   "execution_count": 37,
   "metadata": {},
   "outputs": [],
   "source": [
    "#To save RAM\n",
    "y2 = np.float32(y2)"
   ]
  },
  {
   "cell_type": "code",
   "execution_count": 38,
   "metadata": {},
   "outputs": [],
   "source": [
    "y2 = preprocess_input(y2)"
   ]
  },
  {
   "cell_type": "code",
   "execution_count": 39,
   "metadata": {},
   "outputs": [],
   "source": [
    "y2 = np.array(y2)"
   ]
  },
  {
   "cell_type": "code",
   "execution_count": 40,
   "metadata": {},
   "outputs": [],
   "source": [
    "y2 = y2.astype('float32')"
   ]
  },
  {
   "cell_type": "code",
   "execution_count": 41,
   "metadata": {},
   "outputs": [],
   "source": [
    "y2 /= 255"
   ]
  },
  {
   "cell_type": "code",
   "execution_count": 42,
   "metadata": {},
   "outputs": [],
   "source": [
    "results = np.zeros( (y2.shape[0],6) ) "
   ]
  },
  {
   "cell_type": "code",
   "execution_count": 43,
   "metadata": {},
   "outputs": [],
   "source": [
    "results = results + model.predict(y2)"
   ]
  },
  {
   "cell_type": "code",
   "execution_count": 44,
   "metadata": {},
   "outputs": [],
   "source": [
    "results = results + model2.predict(y2)"
   ]
  },
  {
   "cell_type": "code",
   "execution_count": 45,
   "metadata": {},
   "outputs": [],
   "source": [
    "results = results + model6.predict(y2)"
   ]
  },
  {
   "cell_type": "code",
   "execution_count": 46,
   "metadata": {},
   "outputs": [],
   "source": [
    "results = results + model7.predict(y2)"
   ]
  },
  {
   "cell_type": "code",
   "execution_count": 47,
   "metadata": {},
   "outputs": [],
   "source": [
    "#Model 5 - SVM + VGG\n",
    "feat_val_1 = model_featlast.predict(y2)\n",
    "Pred_labels_1 = svm3l.predict_proba(feat_val_1)\n",
    "\n",
    "results = results + Pred_labels_1"
   ]
  },
  {
   "cell_type": "code",
   "execution_count": 48,
   "metadata": {},
   "outputs": [],
   "source": [
    "results = np.argmax(results,axis = 1)"
   ]
  },
  {
   "cell_type": "code",
   "execution_count": 49,
   "metadata": {},
   "outputs": [
    {
     "data": {
      "text/plain": [
       "array([2, 2, 4, ..., 5, 2, 4], dtype=int64)"
      ]
     },
     "execution_count": 49,
     "metadata": {},
     "output_type": "execute_result"
    }
   ],
   "source": [
    "results"
   ]
  },
  {
   "cell_type": "code",
   "execution_count": 50,
   "metadata": {},
   "outputs": [],
   "source": [
    "import pandas as pd\n",
    "t_dataframe=pd.DataFrame(results, columns=['Category'])"
   ]
  },
  {
   "cell_type": "code",
   "execution_count": 51,
   "metadata": {},
   "outputs": [],
   "source": [
    "t_dataframe[\"Id\"] = t_dataframe.index"
   ]
  },
  {
   "cell_type": "code",
   "execution_count": 52,
   "metadata": {},
   "outputs": [],
   "source": [
    "columns_titles = [\"Id\",\"Category\"]\n",
    "t_dataframe=t_dataframe.reindex(columns=columns_titles)"
   ]
  },
  {
   "cell_type": "code",
   "execution_count": 53,
   "metadata": {},
   "outputs": [],
   "source": [
    "#Save the CSV!\n",
    "\n",
    "t_dataframe.to_csv(\"answerCSV.csv\", index = False)"
   ]
  },
  {
   "cell_type": "markdown",
   "metadata": {},
   "source": [
    "And thus, we have generated our CSV. This can be submitted to Kaggle to reproduce our accuracy."
   ]
  }
 ],
 "metadata": {
  "kernelspec": {
   "display_name": "Python 3",
   "language": "python",
   "name": "python3"
  },
  "language_info": {
   "codemirror_mode": {
    "name": "ipython",
    "version": 3
   },
   "file_extension": ".py",
   "mimetype": "text/x-python",
   "name": "python",
   "nbconvert_exporter": "python",
   "pygments_lexer": "ipython3",
   "version": "3.7.9"
  }
 },
 "nbformat": 4,
 "nbformat_minor": 4
}
